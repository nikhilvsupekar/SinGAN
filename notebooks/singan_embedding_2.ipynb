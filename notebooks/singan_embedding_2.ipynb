{
  "nbformat": 4,
  "nbformat_minor": 0,
  "metadata": {
    "colab": {
      "name": "singan_embedding_2.ipynb",
      "provenance": [],
      "collapsed_sections": []
    },
    "kernelspec": {
      "name": "python3",
      "display_name": "Python 3"
    },
    "language_info": {
      "name": "python"
    },
    "accelerator": "GPU"
  },
  "cells": [
    {
      "cell_type": "code",
      "metadata": {
        "colab": {
          "base_uri": "https://localhost:8080/"
        },
        "id": "D-VKLAkwePd4",
        "outputId": "b914bf9d-1902-47ce-fd88-f7e5259561e1"
      },
      "source": [
        "!git clone --branch develop https://github.com/nikhilvsupekar/SinGAN"
      ],
      "execution_count": 1,
      "outputs": [
        {
          "output_type": "stream",
          "text": [
            "Cloning into 'SinGAN'...\n",
            "remote: Enumerating objects: 934, done.\u001b[K\n",
            "remote: Counting objects: 100% (132/132), done.\u001b[K\n",
            "remote: Compressing objects: 100% (88/88), done.\u001b[K\n",
            "remote: Total 934 (delta 86), reused 86 (delta 44), pack-reused 802\u001b[K\n",
            "Receiving objects: 100% (934/934), 95.01 MiB | 32.55 MiB/s, done.\n",
            "Resolving deltas: 100% (398/398), done.\n"
          ],
          "name": "stdout"
        }
      ]
    },
    {
      "cell_type": "code",
      "metadata": {
        "colab": {
          "base_uri": "https://localhost:8080/"
        },
        "id": "f6CGmReflONL",
        "outputId": "bccdecab-2a11-4088-b033-8a074656f079"
      },
      "source": [
        "!pip install torch==1.4.0 torchvision==0.5.0"
      ],
      "execution_count": 2,
      "outputs": [
        {
          "output_type": "stream",
          "text": [
            "Collecting torch==1.4.0\n",
            "\u001b[?25l  Downloading https://files.pythonhosted.org/packages/1a/3b/fa92ece1e58a6a48ec598bab327f39d69808133e5b2fb33002ca754e381e/torch-1.4.0-cp37-cp37m-manylinux1_x86_64.whl (753.4MB)\n",
            "\u001b[K     |████████████████████████████████| 753.4MB 21kB/s \n",
            "\u001b[?25hCollecting torchvision==0.5.0\n",
            "\u001b[?25l  Downloading https://files.pythonhosted.org/packages/1c/32/cb0e4c43cd717da50258887b088471568990b5a749784c465a8a1962e021/torchvision-0.5.0-cp37-cp37m-manylinux1_x86_64.whl (4.0MB)\n",
            "\u001b[K     |████████████████████████████████| 4.0MB 37.1MB/s \n",
            "\u001b[?25hRequirement already satisfied: six in /usr/local/lib/python3.7/dist-packages (from torchvision==0.5.0) (1.15.0)\n",
            "Requirement already satisfied: pillow>=4.1.1 in /usr/local/lib/python3.7/dist-packages (from torchvision==0.5.0) (7.1.2)\n",
            "Requirement already satisfied: numpy in /usr/local/lib/python3.7/dist-packages (from torchvision==0.5.0) (1.19.5)\n",
            "\u001b[31mERROR: torchtext 0.9.1 has requirement torch==1.8.1, but you'll have torch 1.4.0 which is incompatible.\u001b[0m\n",
            "Installing collected packages: torch, torchvision\n",
            "  Found existing installation: torch 1.8.1+cu101\n",
            "    Uninstalling torch-1.8.1+cu101:\n",
            "      Successfully uninstalled torch-1.8.1+cu101\n",
            "  Found existing installation: torchvision 0.9.1+cu101\n",
            "    Uninstalling torchvision-0.9.1+cu101:\n",
            "      Successfully uninstalled torchvision-0.9.1+cu101\n",
            "Successfully installed torch-1.4.0 torchvision-0.5.0\n"
          ],
          "name": "stdout"
        }
      ]
    },
    {
      "cell_type": "code",
      "metadata": {
        "id": "2f8Tx77BOq4C"
      },
      "source": [
        "import torch \n",
        "from torch.utils.data import TensorDataset, DataLoader\n",
        "import tqdm\n",
        "import numpy as np\n",
        "import torch.nn as nn\n",
        "import torch\n",
        "import numpy as np\n",
        "import torch.nn.functional as F\n",
        "import pickle\n",
        "import torch\n",
        "import tqdm\n",
        "import torch.optim as optim\n",
        "from torch.optim.lr_scheduler import StepLR, ReduceLROnPlateau\n",
        "\n",
        "\n",
        "import os\n",
        "from pathlib import Path\n",
        "\n"
      ],
      "execution_count": 2,
      "outputs": []
    },
    {
      "cell_type": "code",
      "metadata": {
        "colab": {
          "base_uri": "https://localhost:8080/"
        },
        "id": "4nOd_rqE-hy2",
        "outputId": "133fd196-5488-444e-ba86-d63dbb81713a"
      },
      "source": [
        "os.chdir('SinGAN')\n",
        "print(os.getcwd())\n",
        "!python -m pip install -r requirements.txt"
      ],
      "execution_count": 3,
      "outputs": [
        {
          "output_type": "stream",
          "text": [
            "/content/SinGAN\n",
            "Requirement already satisfied: matplotlib in /usr/local/lib/python3.7/dist-packages (from -r requirements.txt (line 1)) (3.2.2)\n",
            "Requirement already satisfied: scikit-image in /usr/local/lib/python3.7/dist-packages (from -r requirements.txt (line 2)) (0.16.2)\n",
            "Requirement already satisfied: scikit-learn in /usr/local/lib/python3.7/dist-packages (from -r requirements.txt (line 3)) (0.22.2.post1)\n",
            "Requirement already satisfied: scipy in /usr/local/lib/python3.7/dist-packages (from -r requirements.txt (line 4)) (1.4.1)\n",
            "Requirement already satisfied: numpy in /usr/local/lib/python3.7/dist-packages (from -r requirements.txt (line 5)) (1.19.5)\n",
            "Requirement already satisfied: torch in /usr/local/lib/python3.7/dist-packages (from -r requirements.txt (line 6)) (1.4.0)\n",
            "Requirement already satisfied: torchvision in /usr/local/lib/python3.7/dist-packages (from -r requirements.txt (line 7)) (0.5.0)\n",
            "Requirement already satisfied: python-dateutil>=2.1 in /usr/local/lib/python3.7/dist-packages (from matplotlib->-r requirements.txt (line 1)) (2.8.1)\n",
            "Requirement already satisfied: cycler>=0.10 in /usr/local/lib/python3.7/dist-packages (from matplotlib->-r requirements.txt (line 1)) (0.10.0)\n",
            "Requirement already satisfied: pyparsing!=2.0.4,!=2.1.2,!=2.1.6,>=2.0.1 in /usr/local/lib/python3.7/dist-packages (from matplotlib->-r requirements.txt (line 1)) (2.4.7)\n",
            "Requirement already satisfied: kiwisolver>=1.0.1 in /usr/local/lib/python3.7/dist-packages (from matplotlib->-r requirements.txt (line 1)) (1.3.1)\n",
            "Requirement already satisfied: PyWavelets>=0.4.0 in /usr/local/lib/python3.7/dist-packages (from scikit-image->-r requirements.txt (line 2)) (1.1.1)\n",
            "Requirement already satisfied: networkx>=2.0 in /usr/local/lib/python3.7/dist-packages (from scikit-image->-r requirements.txt (line 2)) (2.5.1)\n",
            "Requirement already satisfied: pillow>=4.3.0 in /usr/local/lib/python3.7/dist-packages (from scikit-image->-r requirements.txt (line 2)) (7.1.2)\n",
            "Requirement already satisfied: imageio>=2.3.0 in /usr/local/lib/python3.7/dist-packages (from scikit-image->-r requirements.txt (line 2)) (2.4.1)\n",
            "Requirement already satisfied: joblib>=0.11 in /usr/local/lib/python3.7/dist-packages (from scikit-learn->-r requirements.txt (line 3)) (1.0.1)\n",
            "Requirement already satisfied: six in /usr/local/lib/python3.7/dist-packages (from torchvision->-r requirements.txt (line 7)) (1.15.0)\n",
            "Requirement already satisfied: decorator<5,>=4.3 in /usr/local/lib/python3.7/dist-packages (from networkx>=2.0->scikit-image->-r requirements.txt (line 2)) (4.4.2)\n"
          ],
          "name": "stdout"
        }
      ]
    },
    {
      "cell_type": "code",
      "metadata": {
        "colab": {
          "base_uri": "https://localhost:8080/"
        },
        "id": "bMZJv5COJWx2",
        "outputId": "8a2fb0db-4c99-46c7-eadd-c9ac1f398f22"
      },
      "source": [
        "!git status -s"
      ],
      "execution_count": 17,
      "outputs": [
        {
          "output_type": "stream",
          "text": [
            "\u001b[31m??\u001b[m Input/Images/leaf_LR.png\n",
            "\u001b[31m??\u001b[m edge_SR_2x.png\n",
            "\u001b[31m??\u001b[m edge_SR_4x.png\n",
            "\u001b[31m??\u001b[m edge_SR_8x.png\n",
            "\u001b[31m??\u001b[m embeddings.pt\n",
            "\u001b[31m??\u001b[m loss.png\n",
            "\u001b[31m??\u001b[m sr_high_2x.png\n",
            "\u001b[31m??\u001b[m sr_high_4x.png\n",
            "\u001b[31m??\u001b[m sr_high_8x.png\n",
            "\u001b[31m??\u001b[m sr_low.png\n",
            "\u001b[31m??\u001b[m sr_orig.png\n",
            "\u001b[31m??\u001b[m sr_output/\n"
          ],
          "name": "stdout"
        }
      ]
    },
    {
      "cell_type": "code",
      "metadata": {
        "colab": {
          "base_uri": "https://localhost:8080/"
        },
        "id": "gHzAwOZb86wh",
        "outputId": "202deeff-4161-49bf-f3dc-2645746137ad"
      },
      "source": [
        "!git reset --hard"
      ],
      "execution_count": 36,
      "outputs": [
        {
          "output_type": "stream",
          "text": [
            "HEAD is now at 7ee384d bgr to rgb fix\n"
          ],
          "name": "stdout"
        }
      ]
    },
    {
      "cell_type": "code",
      "metadata": {
        "colab": {
          "base_uri": "https://localhost:8080/"
        },
        "id": "hyNQ-Sk4Eu9y",
        "outputId": "7b0c3ffc-0362-42ef-c750-e44bf8177c6d"
      },
      "source": [
        "!git pull origin develop"
      ],
      "execution_count": 37,
      "outputs": [
        {
          "output_type": "stream",
          "text": [
            "remote: Enumerating objects: 5, done.\u001b[K\n",
            "remote: Counting objects:  20% (1/5)\u001b[K\rremote: Counting objects:  40% (2/5)\u001b[K\rremote: Counting objects:  60% (3/5)\u001b[K\rremote: Counting objects:  80% (4/5)\u001b[K\rremote: Counting objects: 100% (5/5)\u001b[K\rremote: Counting objects: 100% (5/5), done.\u001b[K\n",
            "remote: Compressing objects: 100% (1/1)\u001b[K\rremote: Compressing objects: 100% (1/1), done.\u001b[K\n",
            "remote: Total 3 (delta 2), reused 3 (delta 2), pack-reused 0\u001b[K\n",
            "Unpacking objects:  33% (1/3)   \rUnpacking objects:  66% (2/3)   \rUnpacking objects: 100% (3/3)   \rUnpacking objects: 100% (3/3), done.\n",
            "From https://github.com/nikhilvsupekar/SinGAN\n",
            " * branch            develop    -> FETCH_HEAD\n",
            "   7ee384d..30b5901  develop    -> origin/develop\n",
            "Updating 7ee384d..30b5901\n",
            "Fast-forward\n",
            " SR.py | 2 \u001b[32m+\u001b[m\u001b[31m-\u001b[m\n",
            " 1 file changed, 1 insertion(+), 1 deletion(-)\n"
          ],
          "name": "stdout"
        }
      ]
    },
    {
      "cell_type": "code",
      "metadata": {
        "colab": {
          "base_uri": "https://localhost:8080/"
        },
        "id": "Kwt5g6mdzbCn",
        "outputId": "afa8b216-7f99-427c-df75-4d6251b35925"
      },
      "source": [
        "!pwd"
      ],
      "execution_count": null,
      "outputs": [
        {
          "output_type": "stream",
          "text": [
            "/content/SinGAN\n"
          ],
          "name": "stdout"
        }
      ]
    },
    {
      "cell_type": "code",
      "metadata": {
        "id": "xC_X6ZXt0cIw"
      },
      "source": [
        "!rm -r TrainedModels/"
      ],
      "execution_count": 35,
      "outputs": []
    },
    {
      "cell_type": "code",
      "metadata": {
        "colab": {
          "base_uri": "https://localhost:8080/"
        },
        "id": "-jjx0MSTeu_t",
        "outputId": "4dea5388-ea9c-4839-eccc-ec5b65a29290"
      },
      "source": [
        "!rm -r TrainedModels/\n",
        "!python SR.py --input_name 260081_LR.png --niter 10 --sr_epochs 10\n"
      ],
      "execution_count": null,
      "outputs": [
        {
          "output_type": "stream",
          "text": [
            "Random Seed:  137\n",
            "*** Train SinGAN for SR ***\n",
            "GENERATOR input = torch.Size([1, 3, 37, 28])\n",
            "final size (27, 18)\n",
            "GENERATOR head output = torch.Size([1, 32, 35, 26])\n",
            "GENERATOR body output = torch.Size([1, 32, 28, 20])\n",
            "GENERATOR tail output = torch.Size([1, 3, 27, 18])\n",
            "y shape = torch.Size([1, 3, 37, 28])\n",
            "scale 0:[0/10]\n",
            "scale 0:[9/10]\n",
            "GENERATOR input = torch.Size([1, 3, 43, 32])\n",
            "final size (33, 22)\n",
            "GENERATOR head output = torch.Size([1, 32, 41, 30])\n",
            "GENERATOR body output = torch.Size([1, 32, 34, 24])\n",
            "GENERATOR tail output = torch.Size([1, 3, 33, 22])\n",
            "y shape = torch.Size([1, 3, 43, 32])\n",
            "scale 1:[0/10]\n",
            "scale 1:[9/10]\n",
            "GENERATOR input = torch.Size([1, 3, 50, 37])\n",
            "final size (40, 27)\n",
            "GENERATOR head output = torch.Size([1, 32, 48, 35])\n",
            "GENERATOR body output = torch.Size([1, 32, 42, 28])\n",
            "GENERATOR tail output = torch.Size([1, 3, 40, 27])\n",
            "y shape = torch.Size([1, 3, 50, 37])\n",
            "scale 2:[0/10]\n",
            "scale 2:[9/10]\n",
            "GENERATOR input = torch.Size([1, 3, 58, 42])\n",
            "final size (48, 32)\n",
            "GENERATOR head output = torch.Size([1, 32, 56, 40])\n",
            "GENERATOR body output = torch.Size([1, 32, 50, 34])\n",
            "GENERATOR tail output = torch.Size([1, 3, 48, 32])\n",
            "y shape = torch.Size([1, 3, 58, 42])\n",
            "scale 3:[0/10]\n",
            "scale 3:[9/10]\n",
            "GENERATOR input = torch.Size([1, 3, 67, 48])\n",
            "final size (57, 38)\n",
            "GENERATOR head output = torch.Size([1, 64, 65, 46])\n",
            "GENERATOR body output = torch.Size([1, 64, 58, 40])\n",
            "GENERATOR tail output = torch.Size([1, 3, 57, 38])\n",
            "y shape = torch.Size([1, 3, 67, 48])\n",
            "scale 4:[0/10]\n",
            "scale 4:[9/10]\n",
            "GENERATOR input = torch.Size([1, 3, 79, 56])\n",
            "final size (69, 46)\n",
            "GENERATOR head output = torch.Size([1, 64, 77, 54])\n",
            "GENERATOR body output = torch.Size([1, 64, 70, 48])\n",
            "GENERATOR tail output = torch.Size([1, 3, 69, 46])\n",
            "y shape = torch.Size([1, 3, 79, 56])\n",
            "scale 5:[0/10]\n",
            "scale 5:[9/10]\n",
            "GENERATOR input = torch.Size([1, 3, 93, 66])\n",
            "final size (83, 56)\n",
            "GENERATOR head output = torch.Size([1, 64, 91, 64])\n",
            "GENERATOR body output = torch.Size([1, 64, 84, 58])\n",
            "GENERATOR tail output = torch.Size([1, 3, 83, 56])\n",
            "y shape = torch.Size([1, 3, 93, 66])\n",
            "scale 6:[0/10]\n",
            "scale 6:[9/10]\n",
            "GENERATOR input = torch.Size([1, 3, 110, 77])\n",
            "final size (100, 67)\n",
            "GENERATOR head output = torch.Size([1, 64, 108, 75])\n",
            "GENERATOR body output = torch.Size([1, 64, 102, 68])\n",
            "GENERATOR tail output = torch.Size([1, 3, 100, 67])\n",
            "y shape = torch.Size([1, 3, 110, 77])\n",
            "scale 7:[0/10]\n",
            "scale 7:[9/10]\n",
            "GENERATOR input = torch.Size([1, 3, 130, 90])\n",
            "final size (120, 80)\n",
            "GENERATOR head output = torch.Size([1, 128, 128, 88])\n",
            "GENERATOR body output = torch.Size([1, 128, 122, 82])\n",
            "GENERATOR tail output = torch.Size([1, 3, 120, 80])\n",
            "y shape = torch.Size([1, 3, 130, 90])\n",
            "scale 8:[0/10]\n",
            "scale 8:[9/10]\n",
            "4.000000\n",
            "tcmalloc: large alloc 1610629120 bytes == 0x55f5e01d6000 @  0x7f3de1feeb6b 0x7f3de200e379 0x7f3d842aeb4a 0x7f3d842b05fa 0x7f3d865e078a 0x7f3d8682930b 0x7f3d86870b37 0x7f3dcf6f9325 0x7f3dcf6f99cb 0x7f3dcf6fd9fe 0x7f3dcf54a3d6 0x55f58c62fc65 0x55f58c5f0462 0x55f58c663fd5 0x55f58c65e7ad 0x55f58c5f1a81 0x55f58c632d79 0x55f58c62fcc4 0x55f58c5f0462 0x55f58c663fd5 0x55f58c65e7ad 0x55f58c5f1a81 0x55f58c632d79 0x55f58c62fcc4 0x55f58c5f0462 0x55f58c663715 0x55f58c65e4ae 0x55f58c65e1b3 0x55f58c728182 0x55f58c7284fd 0x55f58c7283a6\n",
            "144it [00:16,  8.86it/s]\n",
            "tcmalloc: large alloc 1610629120 bytes == 0x55f5e01d6000 @  0x7f3de200e887 0x7f3dcf8a4acf 0x7f3dcf85bb09 0x55f58c5efc47 0x55f58c6e0fed 0x55f58c663988 0x55f58c65e7ad 0x55f58c5f13ea 0x55f58c65f3b5 0x55f58c65e4ae 0x55f58c5f13ea 0x55f58c6637f0 0x55f58c65e4ae 0x55f58c5f13ea 0x55f58c66032a 0x55f58c65e4ae 0x55f58c65e1b3 0x55f58c728182 0x55f58c7284fd 0x55f58c7283a6 0x55f58c6ff723 0x55f58c6ff3cc 0x7f3de0df6bf7 0x55f58c6ff2aa\n",
            "epoch 0 loss = 0.13024602626036438\n",
            "144it [00:16,  8.95it/s]\n",
            "epoch 1 loss = 0.07261166643972199\n",
            "144it [00:15,  9.03it/s]\n",
            "epoch 2 loss = 0.06976132268189555\n",
            "144it [00:15,  9.16it/s]\n",
            "epoch 3 loss = 0.06722911297240192\n",
            "144it [00:15,  9.20it/s]\n",
            "epoch 4 loss = 0.06716372101153764\n",
            "144it [00:15,  9.19it/s]\n",
            "epoch 5 loss = 0.06609545055673355\n",
            "144it [00:15,  9.21it/s]\n",
            "epoch 6 loss = 0.0655283407929043\n",
            "144it [00:15,  9.18it/s]\n",
            "epoch 7 loss = 0.06559298505696158\n",
            "144it [00:15,  9.21it/s]\n",
            "epoch 8 loss = 0.06497339705108768\n",
            "144it [00:15,  9.14it/s]\n",
            "epoch 9 loss = 0.06492932349081254\n",
            "SR training finished\n",
            "--- generating SR predictions ---\n",
            "4it [00:00, 731.51it/s]\n",
            "<Figure size 800x1500 with 0 Axes>\n",
            "75it [00:00, 94.64it/s]\n",
            "<Figure size 800x1500 with 0 Axes>\n",
            "300it [00:06, 49.79it/s]\n",
            "<Figure size 800x1500 with 0 Axes>\n",
            "1200it [00:26, 44.48it/s]\n",
            "<Figure size 800x1500 with 0 Axes>\n",
            "2477it [00:56, 42.93it/s]"
          ],
          "name": "stdout"
        }
      ]
    },
    {
      "cell_type": "code",
      "metadata": {
        "id": "m28sGGj7Vbtv"
      },
      "source": [
        "import cv2\n",
        "im = cv2.imread('edge_SR_2x.png')"
      ],
      "execution_count": 27,
      "outputs": []
    },
    {
      "cell_type": "code",
      "metadata": {
        "id": "eesgSMlzqT7R",
        "colab": {
          "base_uri": "https://localhost:8080/"
        },
        "outputId": "0cc38225-7984-47b5-fc99-fef6087163bd"
      },
      "source": [
        "!zip -r /content/SinGAN/sr_output/conf1_epoch=975.zip /content/SinGAN/sr_output/conf1_epoch=975.pt"
      ],
      "execution_count": 95,
      "outputs": [
        {
          "output_type": "stream",
          "text": [
            "  adding: content/SinGAN/sr_output/conf1_epoch=975.pt (deflated 8%)\n"
          ],
          "name": "stdout"
        }
      ]
    },
    {
      "cell_type": "code",
      "metadata": {
        "id": "sFKhND-VBiwM",
        "colab": {
          "base_uri": "https://localhost:8080/"
        },
        "outputId": "8db0dfc4-ae2e-464e-cf4a-ce9f7309705a"
      },
      "source": [
        "!zip -r /content/SinGAN/embeddings.zip /content/SinGAN/embeddings.pt"
      ],
      "execution_count": null,
      "outputs": [
        {
          "output_type": "stream",
          "text": [
            "  adding: content/SinGAN/embeddings.pt (deflated 9%)\n"
          ],
          "name": "stdout"
        }
      ]
    },
    {
      "cell_type": "code",
      "metadata": {
        "id": "2NMTSuP6qUBJ"
      },
      "source": [
        "# from google.colab import files\n",
        "# files.download(\"/content/SinGAN/sr_low.png\")\n",
        "# files.download(\"/content/SinGAN/sr_orig.png\")\n",
        "# files.download(\"/content/SinGAN/sr_high_2x.png\")\n",
        "# files.download(\"/content/SinGAN/sr_high_4x.png\")\n",
        "# files.download(\"/content/SinGAN/sr_high_8x.png\")\n"
      ],
      "execution_count": null,
      "outputs": []
    },
    {
      "cell_type": "code",
      "metadata": {
        "colab": {
          "base_uri": "https://localhost:8080/"
        },
        "id": "x7QoVVZ3EM-r",
        "outputId": "e5ffb22a-8147-4f91-ba49-ad0bfc7acd85"
      },
      "source": [
        "# !python random_samples.py --input_name balloons.png --mode random_samples --gen_start_scale 5"
      ],
      "execution_count": null,
      "outputs": [
        {
          "output_type": "stream",
          "text": [
            "Random Seed:  4457\n"
          ],
          "name": "stdout"
        }
      ]
    },
    {
      "cell_type": "code",
      "metadata": {
        "colab": {
          "resources": {
            "http://localhost:8080/nbextensions/google.colab/files.js": {
              "data": "Ly8gQ29weXJpZ2h0IDIwMTcgR29vZ2xlIExMQwovLwovLyBMaWNlbnNlZCB1bmRlciB0aGUgQXBhY2hlIExpY2Vuc2UsIFZlcnNpb24gMi4wICh0aGUgIkxpY2Vuc2UiKTsKLy8geW91IG1heSBub3QgdXNlIHRoaXMgZmlsZSBleGNlcHQgaW4gY29tcGxpYW5jZSB3aXRoIHRoZSBMaWNlbnNlLgovLyBZb3UgbWF5IG9idGFpbiBhIGNvcHkgb2YgdGhlIExpY2Vuc2UgYXQKLy8KLy8gICAgICBodHRwOi8vd3d3LmFwYWNoZS5vcmcvbGljZW5zZXMvTElDRU5TRS0yLjAKLy8KLy8gVW5sZXNzIHJlcXVpcmVkIGJ5IGFwcGxpY2FibGUgbGF3IG9yIGFncmVlZCB0byBpbiB3cml0aW5nLCBzb2Z0d2FyZQovLyBkaXN0cmlidXRlZCB1bmRlciB0aGUgTGljZW5zZSBpcyBkaXN0cmlidXRlZCBvbiBhbiAiQVMgSVMiIEJBU0lTLAovLyBXSVRIT1VUIFdBUlJBTlRJRVMgT1IgQ09ORElUSU9OUyBPRiBBTlkgS0lORCwgZWl0aGVyIGV4cHJlc3Mgb3IgaW1wbGllZC4KLy8gU2VlIHRoZSBMaWNlbnNlIGZvciB0aGUgc3BlY2lmaWMgbGFuZ3VhZ2UgZ292ZXJuaW5nIHBlcm1pc3Npb25zIGFuZAovLyBsaW1pdGF0aW9ucyB1bmRlciB0aGUgTGljZW5zZS4KCi8qKgogKiBAZmlsZW92ZXJ2aWV3IEhlbHBlcnMgZm9yIGdvb2dsZS5jb2xhYiBQeXRob24gbW9kdWxlLgogKi8KKGZ1bmN0aW9uKHNjb3BlKSB7CmZ1bmN0aW9uIHNwYW4odGV4dCwgc3R5bGVBdHRyaWJ1dGVzID0ge30pIHsKICBjb25zdCBlbGVtZW50ID0gZG9jdW1lbnQuY3JlYXRlRWxlbWVudCgnc3BhbicpOwogIGVsZW1lbnQudGV4dENvbnRlbnQgPSB0ZXh0OwogIGZvciAoY29uc3Qga2V5IG9mIE9iamVjdC5rZXlzKHN0eWxlQXR0cmlidXRlcykpIHsKICAgIGVsZW1lbnQuc3R5bGVba2V5XSA9IHN0eWxlQXR0cmlidXRlc1trZXldOwogIH0KICByZXR1cm4gZWxlbWVudDsKfQoKLy8gTWF4IG51bWJlciBvZiBieXRlcyB3aGljaCB3aWxsIGJlIHVwbG9hZGVkIGF0IGEgdGltZS4KY29uc3QgTUFYX1BBWUxPQURfU0laRSA9IDEwMCAqIDEwMjQ7CgpmdW5jdGlvbiBfdXBsb2FkRmlsZXMoaW5wdXRJZCwgb3V0cHV0SWQpIHsKICBjb25zdCBzdGVwcyA9IHVwbG9hZEZpbGVzU3RlcChpbnB1dElkLCBvdXRwdXRJZCk7CiAgY29uc3Qgb3V0cHV0RWxlbWVudCA9IGRvY3VtZW50LmdldEVsZW1lbnRCeUlkKG91dHB1dElkKTsKICAvLyBDYWNoZSBzdGVwcyBvbiB0aGUgb3V0cHV0RWxlbWVudCB0byBtYWtlIGl0IGF2YWlsYWJsZSBmb3IgdGhlIG5leHQgY2FsbAogIC8vIHRvIHVwbG9hZEZpbGVzQ29udGludWUgZnJvbSBQeXRob24uCiAgb3V0cHV0RWxlbWVudC5zdGVwcyA9IHN0ZXBzOwoKICByZXR1cm4gX3VwbG9hZEZpbGVzQ29udGludWUob3V0cHV0SWQpOwp9CgovLyBUaGlzIGlzIHJvdWdobHkgYW4gYXN5bmMgZ2VuZXJhdG9yIChub3Qgc3VwcG9ydGVkIGluIHRoZSBicm93c2VyIHlldCksCi8vIHdoZXJlIHRoZXJlIGFyZSBtdWx0aXBsZSBhc3luY2hyb25vdXMgc3RlcHMgYW5kIHRoZSBQeXRob24gc2lkZSBpcyBnb2luZwovLyB0byBwb2xsIGZvciBjb21wbGV0aW9uIG9mIGVhY2ggc3RlcC4KLy8gVGhpcyB1c2VzIGEgUHJvbWlzZSB0byBibG9jayB0aGUgcHl0aG9uIHNpZGUgb24gY29tcGxldGlvbiBvZiBlYWNoIHN0ZXAsCi8vIHRoZW4gcGFzc2VzIHRoZSByZXN1bHQgb2YgdGhlIHByZXZpb3VzIHN0ZXAgYXMgdGhlIGlucHV0IHRvIHRoZSBuZXh0IHN0ZXAuCmZ1bmN0aW9uIF91cGxvYWRGaWxlc0NvbnRpbnVlKG91dHB1dElkKSB7CiAgY29uc3Qgb3V0cHV0RWxlbWVudCA9IGRvY3VtZW50LmdldEVsZW1lbnRCeUlkKG91dHB1dElkKTsKICBjb25zdCBzdGVwcyA9IG91dHB1dEVsZW1lbnQuc3RlcHM7CgogIGNvbnN0IG5leHQgPSBzdGVwcy5uZXh0KG91dHB1dEVsZW1lbnQubGFzdFByb21pc2VWYWx1ZSk7CiAgcmV0dXJuIFByb21pc2UucmVzb2x2ZShuZXh0LnZhbHVlLnByb21pc2UpLnRoZW4oKHZhbHVlKSA9PiB7CiAgICAvLyBDYWNoZSB0aGUgbGFzdCBwcm9taXNlIHZhbHVlIHRvIG1ha2UgaXQgYXZhaWxhYmxlIHRvIHRoZSBuZXh0CiAgICAvLyBzdGVwIG9mIHRoZSBnZW5lcmF0b3IuCiAgICBvdXRwdXRFbGVtZW50Lmxhc3RQcm9taXNlVmFsdWUgPSB2YWx1ZTsKICAgIHJldHVybiBuZXh0LnZhbHVlLnJlc3BvbnNlOwogIH0pOwp9CgovKioKICogR2VuZXJhdG9yIGZ1bmN0aW9uIHdoaWNoIGlzIGNhbGxlZCBiZXR3ZWVuIGVhY2ggYXN5bmMgc3RlcCBvZiB0aGUgdXBsb2FkCiAqIHByb2Nlc3MuCiAqIEBwYXJhbSB7c3RyaW5nfSBpbnB1dElkIEVsZW1lbnQgSUQgb2YgdGhlIGlucHV0IGZpbGUgcGlja2VyIGVsZW1lbnQuCiAqIEBwYXJhbSB7c3RyaW5nfSBvdXRwdXRJZCBFbGVtZW50IElEIG9mIHRoZSBvdXRwdXQgZGlzcGxheS4KICogQHJldHVybiB7IUl0ZXJhYmxlPCFPYmplY3Q+fSBJdGVyYWJsZSBvZiBuZXh0IHN0ZXBzLgogKi8KZnVuY3Rpb24qIHVwbG9hZEZpbGVzU3RlcChpbnB1dElkLCBvdXRwdXRJZCkgewogIGNvbnN0IGlucHV0RWxlbWVudCA9IGRvY3VtZW50LmdldEVsZW1lbnRCeUlkKGlucHV0SWQpOwogIGlucHV0RWxlbWVudC5kaXNhYmxlZCA9IGZhbHNlOwoKICBjb25zdCBvdXRwdXRFbGVtZW50ID0gZG9jdW1lbnQuZ2V0RWxlbWVudEJ5SWQob3V0cHV0SWQpOwogIG91dHB1dEVsZW1lbnQuaW5uZXJIVE1MID0gJyc7CgogIGNvbnN0IHBpY2tlZFByb21pc2UgPSBuZXcgUHJvbWlzZSgocmVzb2x2ZSkgPT4gewogICAgaW5wdXRFbGVtZW50LmFkZEV2ZW50TGlzdGVuZXIoJ2NoYW5nZScsIChlKSA9PiB7CiAgICAgIHJlc29sdmUoZS50YXJnZXQuZmlsZXMpOwogICAgfSk7CiAgfSk7CgogIGNvbnN0IGNhbmNlbCA9IGRvY3VtZW50LmNyZWF0ZUVsZW1lbnQoJ2J1dHRvbicpOwogIGlucHV0RWxlbWVudC5wYXJlbnRFbGVtZW50LmFwcGVuZENoaWxkKGNhbmNlbCk7CiAgY2FuY2VsLnRleHRDb250ZW50ID0gJ0NhbmNlbCB1cGxvYWQnOwogIGNvbnN0IGNhbmNlbFByb21pc2UgPSBuZXcgUHJvbWlzZSgocmVzb2x2ZSkgPT4gewogICAgY2FuY2VsLm9uY2xpY2sgPSAoKSA9PiB7CiAgICAgIHJlc29sdmUobnVsbCk7CiAgICB9OwogIH0pOwoKICAvLyBXYWl0IGZvciB0aGUgdXNlciB0byBwaWNrIHRoZSBmaWxlcy4KICBjb25zdCBmaWxlcyA9IHlpZWxkIHsKICAgIHByb21pc2U6IFByb21pc2UucmFjZShbcGlja2VkUHJvbWlzZSwgY2FuY2VsUHJvbWlzZV0pLAogICAgcmVzcG9uc2U6IHsKICAgICAgYWN0aW9uOiAnc3RhcnRpbmcnLAogICAgfQogIH07CgogIGNhbmNlbC5yZW1vdmUoKTsKCiAgLy8gRGlzYWJsZSB0aGUgaW5wdXQgZWxlbWVudCBzaW5jZSBmdXJ0aGVyIHBpY2tzIGFyZSBub3QgYWxsb3dlZC4KICBpbnB1dEVsZW1lbnQuZGlzYWJsZWQgPSB0cnVlOwoKICBpZiAoIWZpbGVzKSB7CiAgICByZXR1cm4gewogICAgICByZXNwb25zZTogewogICAgICAgIGFjdGlvbjogJ2NvbXBsZXRlJywKICAgICAgfQogICAgfTsKICB9CgogIGZvciAoY29uc3QgZmlsZSBvZiBmaWxlcykgewogICAgY29uc3QgbGkgPSBkb2N1bWVudC5jcmVhdGVFbGVtZW50KCdsaScpOwogICAgbGkuYXBwZW5kKHNwYW4oZmlsZS5uYW1lLCB7Zm9udFdlaWdodDogJ2JvbGQnfSkpOwogICAgbGkuYXBwZW5kKHNwYW4oCiAgICAgICAgYCgke2ZpbGUudHlwZSB8fCAnbi9hJ30pIC0gJHtmaWxlLnNpemV9IGJ5dGVzLCBgICsKICAgICAgICBgbGFzdCBtb2RpZmllZDogJHsKICAgICAgICAgICAgZmlsZS5sYXN0TW9kaWZpZWREYXRlID8gZmlsZS5sYXN0TW9kaWZpZWREYXRlLnRvTG9jYWxlRGF0ZVN0cmluZygpIDoKICAgICAgICAgICAgICAgICAgICAgICAgICAgICAgICAgICAgJ24vYSd9IC0gYCkpOwogICAgY29uc3QgcGVyY2VudCA9IHNwYW4oJzAlIGRvbmUnKTsKICAgIGxpLmFwcGVuZENoaWxkKHBlcmNlbnQpOwoKICAgIG91dHB1dEVsZW1lbnQuYXBwZW5kQ2hpbGQobGkpOwoKICAgIGNvbnN0IGZpbGVEYXRhUHJvbWlzZSA9IG5ldyBQcm9taXNlKChyZXNvbHZlKSA9PiB7CiAgICAgIGNvbnN0IHJlYWRlciA9IG5ldyBGaWxlUmVhZGVyKCk7CiAgICAgIHJlYWRlci5vbmxvYWQgPSAoZSkgPT4gewogICAgICAgIHJlc29sdmUoZS50YXJnZXQucmVzdWx0KTsKICAgICAgfTsKICAgICAgcmVhZGVyLnJlYWRBc0FycmF5QnVmZmVyKGZpbGUpOwogICAgfSk7CiAgICAvLyBXYWl0IGZvciB0aGUgZGF0YSB0byBiZSByZWFkeS4KICAgIGxldCBmaWxlRGF0YSA9IHlpZWxkIHsKICAgICAgcHJvbWlzZTogZmlsZURhdGFQcm9taXNlLAogICAgICByZXNwb25zZTogewogICAgICAgIGFjdGlvbjogJ2NvbnRpbnVlJywKICAgICAgfQogICAgfTsKCiAgICAvLyBVc2UgYSBjaHVua2VkIHNlbmRpbmcgdG8gYXZvaWQgbWVzc2FnZSBzaXplIGxpbWl0cy4gU2VlIGIvNjIxMTU2NjAuCiAgICBsZXQgcG9zaXRpb24gPSAwOwogICAgd2hpbGUgKHBvc2l0aW9uIDwgZmlsZURhdGEuYnl0ZUxlbmd0aCkgewogICAgICBjb25zdCBsZW5ndGggPSBNYXRoLm1pbihmaWxlRGF0YS5ieXRlTGVuZ3RoIC0gcG9zaXRpb24sIE1BWF9QQVlMT0FEX1NJWkUpOwogICAgICBjb25zdCBjaHVuayA9IG5ldyBVaW50OEFycmF5KGZpbGVEYXRhLCBwb3NpdGlvbiwgbGVuZ3RoKTsKICAgICAgcG9zaXRpb24gKz0gbGVuZ3RoOwoKICAgICAgY29uc3QgYmFzZTY0ID0gYnRvYShTdHJpbmcuZnJvbUNoYXJDb2RlLmFwcGx5KG51bGwsIGNodW5rKSk7CiAgICAgIHlpZWxkIHsKICAgICAgICByZXNwb25zZTogewogICAgICAgICAgYWN0aW9uOiAnYXBwZW5kJywKICAgICAgICAgIGZpbGU6IGZpbGUubmFtZSwKICAgICAgICAgIGRhdGE6IGJhc2U2NCwKICAgICAgICB9LAogICAgICB9OwogICAgICBwZXJjZW50LnRleHRDb250ZW50ID0KICAgICAgICAgIGAke01hdGgucm91bmQoKHBvc2l0aW9uIC8gZmlsZURhdGEuYnl0ZUxlbmd0aCkgKiAxMDApfSUgZG9uZWA7CiAgICB9CiAgfQoKICAvLyBBbGwgZG9uZS4KICB5aWVsZCB7CiAgICByZXNwb25zZTogewogICAgICBhY3Rpb246ICdjb21wbGV0ZScsCiAgICB9CiAgfTsKfQoKc2NvcGUuZ29vZ2xlID0gc2NvcGUuZ29vZ2xlIHx8IHt9OwpzY29wZS5nb29nbGUuY29sYWIgPSBzY29wZS5nb29nbGUuY29sYWIgfHwge307CnNjb3BlLmdvb2dsZS5jb2xhYi5fZmlsZXMgPSB7CiAgX3VwbG9hZEZpbGVzLAogIF91cGxvYWRGaWxlc0NvbnRpbnVlLAp9Owp9KShzZWxmKTsK",
              "ok": true,
              "headers": [
                [
                  "content-type",
                  "application/javascript"
                ]
              ],
              "status": 200,
              "status_text": ""
            }
          },
          "base_uri": "https://localhost:8080/",
          "height": 73
        },
        "id": "ozZreXwVf7W8",
        "outputId": "e1eba6a2-6b87-4492-b658-7e75848786c7"
      },
      "source": [
        "\"\"\"def upload_files():\n",
        "  from google.colab import files\n",
        "  uploaded = files.upload()\n",
        "  for k, v in uploaded.items():\n",
        "    open(k, 'wb').write(v)\n",
        "  return list(uploaded.keys())\n",
        "\n",
        "upload_files()\"\"\""
      ],
      "execution_count": null,
      "outputs": [
        {
          "output_type": "display_data",
          "data": {
            "text/html": [
              "\n",
              "     <input type=\"file\" id=\"files-014a1257-63dd-4e82-af62-1566c498cab5\" name=\"files[]\" multiple disabled\n",
              "        style=\"border:none\" />\n",
              "     <output id=\"result-014a1257-63dd-4e82-af62-1566c498cab5\">\n",
              "      Upload widget is only available when the cell has been executed in the\n",
              "      current browser session. Please rerun this cell to enable.\n",
              "      </output>\n",
              "      <script src=\"/nbextensions/google.colab/files.js\"></script> "
            ],
            "text/plain": [
              "<IPython.core.display.HTML object>"
            ]
          },
          "metadata": {
            "tags": []
          }
        },
        {
          "output_type": "stream",
          "text": [
            "Saving unnamed.jpg to unnamed.jpg\n"
          ],
          "name": "stdout"
        },
        {
          "output_type": "execute_result",
          "data": {
            "text/plain": [
              "['unnamed.jpg']"
            ]
          },
          "metadata": {
            "tags": []
          },
          "execution_count": 3
        }
      ]
    },
    {
      "cell_type": "code",
      "metadata": {
        "id": "dCtH0Y5i5MnY"
      },
      "source": [
        "import torch\n",
        "out = torch.load('embeddings.pt')\n",
        "\n",
        "images = list(zip(*out))[0]\n",
        "embeddings = list(zip(*out))[1]"
      ],
      "execution_count": 18,
      "outputs": []
    },
    {
      "cell_type": "code",
      "metadata": {
        "id": "7aC2l9oGmsW5"
      },
      "source": [
        "\n",
        "class DownBlock(nn.Sequential):\n",
        "    def __init__(self, in_channel, out_channel, ker_size, padd, stride):\n",
        "        super(DownBlock,self).__init__()\n",
        "        self.add_module('down', nn.MaxPool2d(2))\n",
        "        self.add_module('conv',nn.Conv2d(in_channel ,out_channel,kernel_size=ker_size,stride=stride,padding=padd)),\n",
        "        self.add_module('norm',nn.BatchNorm2d(out_channel)),\n",
        "        self.add_module('LeakyRelu',nn.LeakyReLU(0.2, inplace=True))\n",
        "\n",
        "\n",
        "class SR(nn.Module):\n",
        "    def __init__(self, embeddings):\n",
        "        super(SR, self).__init__()\n",
        "        \n",
        "\n",
        "        with torch.no_grad():\n",
        "            embeddings = [x.squeeze(0).resize_((32, 32, 32)) for x in embeddings]\n",
        "            embeddings = torch.cat(embeddings).unsqueeze(0).to('cuda:0')\n",
        "\n",
        "            emb_down_block = DownBlock(in_channel = embeddings.shape[1], out_channel = 16, \n",
        "                                        ker_size = 5, padd = 0, stride = 1).to('cuda:0')\n",
        "\n",
        "            emb_conv = emb_down_block(embeddings)\n",
        "            self.emb = emb_conv.view(-1)\n",
        "            emb_size = self.emb.shape[0]\n",
        "\n",
        "        self.linear1 = nn.Linear(emb_size + 2, 512 * 2)\n",
        "        self.relu1 = nn.ReLU()\n",
        "        self.linear2 = nn.Linear(512 * 2 + 2, 512)\n",
        "        self.relu2 = nn.ReLU()\n",
        "        self.linear3 = nn.Linear(512 + 2, 64)\n",
        "        self.relu3 = nn.ReLU()\n",
        "        self.linear4 = nn.Linear(64 + 2, 3)\n",
        "\n",
        "    def forward(self, locs):\n",
        "        \n",
        "        embeddings_repeated = self.emb.repeat(locs.shape[0], 1, 1)\n",
        "        embeddings_with_coords = torch.cat([embeddings_repeated, locs], dim=2)\n",
        "        \n",
        "        y = self.linear1(embeddings_with_coords)\n",
        "        y = self.relu1(y)\n",
        "        y = torch.cat([y, locs], dim=2)\n",
        "        y = self.linear2(y)\n",
        "        y = self.relu2(y)\n",
        "        y = torch.cat([y, locs], dim=2)\n",
        "        y = self.linear3(y)\n",
        "        y = self.relu3(y)\n",
        "        y = torch.cat([y, locs], dim=2)\n",
        "        y = self.linear4(y)\n",
        "        \n",
        "        return y\n"
      ],
      "execution_count": null,
      "outputs": []
    },
    {
      "cell_type": "code",
      "metadata": {
        "colab": {
          "base_uri": "https://localhost:8080/"
        },
        "id": "2LjdKlIGVHC_",
        "outputId": "f5f65cf5-4ef6-4776-b253-ffa805cc3431"
      },
      "source": [
        "from torchsummary import summary\n",
        "\n",
        "embeddings = list(zip(*out))[1]\n",
        "model = SR(embeddings).to('cuda:0')\n",
        "\n",
        "summary(model, (1, 2))"
      ],
      "execution_count": null,
      "outputs": [
        {
          "output_type": "stream",
          "text": [
            "----------------------------------------------------------------\n",
            "        Layer (type)               Output Shape         Param #\n",
            "================================================================\n",
            "            Linear-1              [-1, 1, 1024]       2,362,368\n",
            "              ReLU-2              [-1, 1, 1024]               0\n",
            "            Linear-3               [-1, 1, 512]         525,824\n",
            "              ReLU-4               [-1, 1, 512]               0\n",
            "            Linear-5                [-1, 1, 64]          32,960\n",
            "              ReLU-6                [-1, 1, 64]               0\n",
            "            Linear-7                 [-1, 1, 3]             201\n",
            "================================================================\n",
            "Total params: 2,921,353\n",
            "Trainable params: 2,921,353\n",
            "Non-trainable params: 0\n",
            "----------------------------------------------------------------\n",
            "Input size (MB): 0.00\n",
            "Forward/backward pass size (MB): 0.02\n",
            "Params size (MB): 11.14\n",
            "Estimated Total Size (MB): 11.17\n",
            "----------------------------------------------------------------\n"
          ],
          "name": "stdout"
        }
      ]
    },
    {
      "cell_type": "code",
      "metadata": {
        "id": "YjMGOdQUFCz_"
      },
      "source": [
        "def get_pixel_data_from_image(img, base_img):\n",
        "    img = img.squeeze(0).permute(1, 2, 0)\n",
        "    base_img = base_img.squeeze(0).permute(1, 2, 0)\n",
        "    coords = []\n",
        "    targets = []\n",
        "\n",
        "    for i in range(img.shape[0]):\n",
        "        for j in range(img.shape[1]):\n",
        "            color = list(img[i, j].cpu().numpy())\n",
        "            scaled_i = i * base_img.shape[0] / img.shape[0]\n",
        "            scaled_j = j * base_img.shape[1] / img.shape[1]\n",
        "\n",
        "            coords.append([scaled_i, scaled_j])\n",
        "            targets.append(color)\n",
        "    \n",
        "    return torch.from_numpy(np.array(coords)), torch.from_numpy(np.array(targets))\n",
        "\n",
        "\n",
        "def get_SR_inputs_targets(images):\n",
        "    coords, targets = tuple(zip(*[get_pixel_data_from_image(img, images[0]) for img in images]))\n",
        "    \n",
        "    return torch.cat(coords).unsqueeze(1), torch.cat(targets).unsqueeze(1)"
      ],
      "execution_count": 17,
      "outputs": []
    },
    {
      "cell_type": "code",
      "metadata": {
        "colab": {
          "base_uri": "https://localhost:8080/"
        },
        "id": "SyEtoQPb30zk",
        "outputId": "3dc42506-1e36-4724-d488-582f97a5cf7e"
      },
      "source": [
        "pixel_inputs, color_targets = get_SR_inputs_targets(images)\n",
        "pixel_inputs.shape, color_targets.shape"
      ],
      "execution_count": null,
      "outputs": [
        {
          "output_type": "execute_result",
          "data": {
            "text/plain": [
              "(torch.Size([30116, 1, 2]), torch.Size([30116, 1, 3]))"
            ]
          },
          "metadata": {
            "tags": []
          },
          "execution_count": 22
        }
      ]
    },
    {
      "cell_type": "code",
      "metadata": {
        "id": "dHNat-gKWfMw"
      },
      "source": [
        "def train_SR(model, input_tensor, output_tensor, num_epochs = 1000, batch_size = 64, output_dir = 'sr_output'):\n",
        "    SEED = 123\n",
        "    EPOCH_START = 0\n",
        "    EPOCH_END = num_epochs\n",
        "    SAVE_FREQ = 25\n",
        "    SAVE_PATH = output_dir\n",
        "    CONF_NAME = 'conf4'\n",
        "\n",
        "    LR = 0.0001\n",
        "    BATCH_SIZE = batch_size\n",
        "    device = 'cuda:0' if torch.cuda.is_available() else 'cpu'\n",
        "\n",
        "    train_dataset = TensorDataset(input_tensor.float().to(device), output_tensor.float().to(device))\n",
        "    train_dataloader = DataLoader(train_dataset, batch_size = BATCH_SIZE, shuffle = False)\n",
        "\n",
        "    criterion = nn.MSELoss()\n",
        "    optimizer = optim.Adam(model.parameters(), lr = LR)\n",
        "    # scheduler = StepLR(optimizer, step_size = 50, gamma = 0.75)\n",
        "    scheduler = ReduceLROnPlateau(optimizer)\n",
        "\n",
        "    torch.manual_seed(SEED)\n",
        "\n",
        "    model.to(device)\n",
        "    model.train()\n",
        "\n",
        "    losses = []\n",
        "\n",
        "    for epoch in range(EPOCH_START, EPOCH_END):\n",
        "\n",
        "        running_loss = 0.0\n",
        "        \n",
        "        for i, data in enumerate(train_dataloader, 0):\n",
        "            # get the inputs; data is a list of [inputs, labels]\n",
        "            inputs, labels = data\n",
        "            \n",
        "            inputs = inputs.to(device)\n",
        "            labels = labels.to(device)\n",
        "\n",
        "            # zero the parameter gradients\n",
        "            optimizer.zero_grad()\n",
        "\n",
        "            # forward + backward + optimize\n",
        "            point_outputs = model(inputs)\n",
        "            loss = criterion(point_outputs, labels)\n",
        "            \n",
        "            loss.backward()\n",
        "            # torch.nn.utils.clip_grad_norm_(model.parameters(), 1)\n",
        "            optimizer.step()\n",
        "\n",
        "            # print statistics\n",
        "            running_loss += loss.item()\n",
        "        \n",
        "        scheduler.step(running_loss)\n",
        "\n",
        "        if epoch % SAVE_FREQ == 0:\n",
        "            model_path = os.path.join(SAVE_PATH, CONF_NAME + '_epoch=' + str(epoch) + '.pt')\n",
        "            pickle_path = os.path.join(SAVE_PATH, CONF_NAME + '_loss_list_epoch=' + str(epoch) + '.pt')\n",
        "            \n",
        "            torch.save(model.state_dict(), model_path)\n",
        "            with open(pickle_path, 'wb+') as f:\n",
        "                pickle.dump(losses, f)\n",
        "        \n",
        "        print(f\"epoch {epoch} loss = {running_loss/(i+1)}\")\n",
        "        losses.append(running_loss/(i+1))\n",
        "\n",
        "    print('SR training finished')\n",
        "    return losses\n"
      ],
      "execution_count": null,
      "outputs": []
    },
    {
      "cell_type": "code",
      "metadata": {
        "id": "K7WiSfcWWfDm"
      },
      "source": [
        "# Path('sr_output').mkdir(parents=True, exist_ok=True)\n",
        "\n",
        "from SinGAN.models import SR\n",
        "\n",
        "out = torch.load('embeddings.pt')\n",
        "\n",
        "images = list(zip(*out))[0]\n",
        "embeddings = list(zip(*out))[1]\n",
        "\n",
        "input_tensor, output_tensor = get_SR_inputs_targets(images)\n",
        "model = SR(embeddings).to('cuda:0')\n",
        "\n",
        "\n",
        "# losses = train_SR(model, input_tensor, output_tensor, num_epochs = 1000, batch_size = 64, output_dir = 'sr_output')"
      ],
      "execution_count": 20,
      "outputs": []
    },
    {
      "cell_type": "code",
      "metadata": {
        "id": "OLWDBIU8JFEP"
      },
      "source": [
        "\n",
        "def create_image_from_output(output_tensor, h, w):\n",
        "    x = torch.zeros(1, 3, h, w)\n",
        "\n",
        "    for i in range(0, h):\n",
        "        for j in range(0, w):\n",
        "            t = w * i + j\n",
        "            x[0, :, i, j] = output_tensor[t, 0, :]\n",
        "    \n",
        "    return x\n",
        "        "
      ],
      "execution_count": 30,
      "outputs": []
    },
    {
      "cell_type": "code",
      "metadata": {
        "id": "AKlHgLrBM-Fa"
      },
      "source": [
        "x = create_image_from_output(output_tensor, 27, 18)"
      ],
      "execution_count": null,
      "outputs": []
    },
    {
      "cell_type": "code",
      "metadata": {
        "colab": {
          "base_uri": "https://localhost:8080/"
        },
        "id": "yFcq9fI7Rdt5",
        "outputId": "d9ba1cbe-13f7-43e0-ecda-42fdedd25c8c"
      },
      "source": [
        "output_tensor[0:486, :, :].permute(1, 2, 0).view(1, 3, 27, 18)"
      ],
      "execution_count": null,
      "outputs": [
        {
          "output_type": "execute_result",
          "data": {
            "text/plain": [
              "tensor([[[[-1.0000, -1.0000, -1.0000,  ..., -1.0000, -1.0000, -1.0000],\n",
              "          [-1.0000, -1.0000, -1.0000,  ..., -1.0000, -1.0000, -1.0000],\n",
              "          [-1.0000, -1.0000, -1.0000,  ..., -0.9996, -1.0000, -1.0000],\n",
              "          ...,\n",
              "          [-1.0000, -0.9998, -1.0000,  ..., -0.8824, -1.0000, -1.0000],\n",
              "          [-0.9994, -1.0000, -0.9855,  ..., -0.9614, -0.9197, -1.0000],\n",
              "          [-1.0000, -0.9221, -0.6460,  ..., -0.6649, -0.5801, -0.7155]],\n",
              "\n",
              "         [[-1.0000, -1.0000, -1.0000,  ..., -1.0000, -1.0000, -1.0000],\n",
              "          [-1.0000, -1.0000, -1.0000,  ..., -1.0000, -1.0000, -1.0000],\n",
              "          [-1.0000, -1.0000, -1.0000,  ..., -1.0000, -1.0000, -1.0000],\n",
              "          ...,\n",
              "          [-1.0000, -0.9998, -1.0000,  ..., -1.0000, -1.0000, -1.0000],\n",
              "          [-0.9993, -1.0000, -0.9854,  ..., -0.9659, -0.9194, -1.0000],\n",
              "          [-1.0000, -0.9104, -0.6187,  ..., -0.6419, -0.5547, -0.6880]],\n",
              "\n",
              "         [[-1.0000, -1.0000, -1.0000,  ..., -1.0000, -1.0000, -1.0000],\n",
              "          [-1.0000, -1.0000, -1.0000,  ..., -1.0000, -1.0000, -1.0000],\n",
              "          [-1.0000, -1.0000, -1.0000,  ..., -1.0000, -1.0000, -1.0000],\n",
              "          ...,\n",
              "          [-1.0000, -0.9998, -1.0000,  ..., -0.9526, -1.0000, -1.0000],\n",
              "          [-0.9993, -1.0000, -0.9855,  ..., -0.9637, -0.9156, -1.0000],\n",
              "          [-1.0000, -0.9101, -0.6142,  ..., -0.6361, -0.5437, -0.6868]]]])"
            ]
          },
          "metadata": {
            "tags": []
          },
          "execution_count": 144
        }
      ]
    },
    {
      "cell_type": "code",
      "metadata": {
        "colab": {
          "base_uri": "https://localhost:8080/",
          "height": 718
        },
        "id": "_DsV3JyfCS96",
        "outputId": "79d0548e-baa5-4c26-862c-e48479eee3df"
      },
      "source": [
        "plt.figure(figsize = (8, 15))\n",
        "\n",
        "# k = output_tensor[0:486, :, :].view(1, 3, 27, 18)\n",
        "# k = output_tensor[0:486, 0, :].view(27, 18, 3).permute(2, 0, 1).unsqueeze(1)\n",
        "k = output_tensor[0:486, :, :].permute(1, 2, 0).view(1, 3, 27, 18)\n",
        "img_plot = functions.convert_image_np(k)\n",
        "plt.imshow(img_plot)\n",
        "plt.show()\n"
      ],
      "execution_count": null,
      "outputs": [
        {
          "output_type": "display_data",
          "data": {
            "image/png": "[encoded data removed]",
            "text/plain": [
              "<Figure size 576x1080 with 1 Axes>"
            ]
          },
          "metadata": {
            "tags": [],
            "needs_background": "light"
          }
        }
      ]
    },
    {
      "cell_type": "code",
      "metadata": {
        "colab": {
          "base_uri": "https://localhost:8080/",
          "height": 445
        },
        "id": "gqxOrjRpjMZZ",
        "outputId": "17f28277-33ca-4435-9863-c2acfc5fcbda"
      },
      "source": [
        "plt.figure(figsize = (10, 7))\n",
        "\n",
        "plt.plot(list(range(len(losses))), losses)"
      ],
      "execution_count": null,
      "outputs": [
        {
          "output_type": "execute_result",
          "data": {
            "text/plain": [
              "[<matplotlib.lines.Line2D at 0x7fb3f710add0>]"
            ]
          },
          "metadata": {
            "tags": []
          },
          "execution_count": 190
        },
        {
          "output_type": "display_data",
          "data": {
            "image/png": "[encoded data removed]",
            "text/plain": [
              "<Figure size 720x504 with 1 Axes>"
            ]
          },
          "metadata": {
            "tags": [],
            "needs_background": "light"
          }
        }
      ]
    },
    {
      "cell_type": "code",
      "metadata": {
        "id": "h9KvlDd52lPJ"
      },
      "source": [
        "from SinGAN.models import SR\n",
        "\n",
        "device = 'cuda:0' if torch.cuda.is_available() else 'cpu'\n",
        "\n",
        "model_path = 'sr_output/conf1_epoch=975.pt'\n",
        "embeddings_path = 'embeddings.pt'\n",
        "\n",
        "out = torch.load(embeddings_path)\n",
        "\n",
        "images = list(zip(*out))[0]\n",
        "embeddings = list(zip(*out))[1]\n",
        "\n",
        "base_img = images[0]\n",
        "\n",
        "model = SR(embeddings).to(device)\n",
        "model.load_state_dict(torch.load(model_path))\n",
        "model.eval()\n",
        "\n",
        "model.set_emb(embeddings)\n"
      ],
      "execution_count": 39,
      "outputs": []
    },
    {
      "cell_type": "code",
      "metadata": {
        "id": "cXQ1QHs1nkEK"
      },
      "source": [
        "def predict(model, input_tensor):\n",
        "\n",
        "    device = 'cuda:0' if torch.cuda.is_available() else 'cpu'\n",
        "    BATCH_SIZE = 128\n",
        "\n",
        "    dataset = TensorDataset(input_tensor.float().to(device))\n",
        "    dataloader = DataLoader(dataset, batch_size = BATCH_SIZE, shuffle = False)\n",
        "\n",
        "    model.to(device)\n",
        "    model.eval()\n",
        "\n",
        "    inputs = []\n",
        "    losses = []\n",
        "    running_loss = 0.0\n",
        "    outputs = []\n",
        "\n",
        "    for i, data in tqdm.tqdm(enumerate(dataloader, 0)):\n",
        "        \n",
        "        input = data[0].to(device)\n",
        "        inputs.append(input)\n",
        "\n",
        "        with torch.no_grad():\n",
        "            output = model(input)\n",
        "        outputs.append(output)\n",
        "        \n",
        "        losses.append(running_loss/(i+1))\n",
        "\n",
        "    # predictions = torch.cat(outputs).squeeze(1).cpu().numpy()\n",
        "    return torch.cat(outputs), torch.cat(inputs)\n"
      ],
      "execution_count": 40,
      "outputs": []
    },
    {
      "cell_type": "code",
      "metadata": {
        "colab": {
          "base_uri": "https://localhost:8080/"
        },
        "id": "FLdk2rsO4aPq",
        "outputId": "11ada2a2-4012-471c-df16-f420aa445541"
      },
      "source": [
        "len(images)"
      ],
      "execution_count": 41,
      "outputs": [
        {
          "output_type": "execute_result",
          "data": {
            "text/plain": [
              "6"
            ]
          },
          "metadata": {
            "tags": []
          },
          "execution_count": 41
        }
      ]
    },
    {
      "cell_type": "code",
      "metadata": {
        "colab": {
          "base_uri": "https://localhost:8080/",
          "height": 494
        },
        "id": "e076LUZtfEhK",
        "outputId": "e623f574-933f-4125-b6bb-3a46fe94171e"
      },
      "source": [
        "import SinGAN.functions as functions\n",
        "import matplotlib.pyplot as plt\n",
        "\n",
        "plt.figure(figsize = (8, 15))\n",
        "\n",
        "img_plot = functions.convert_image_np(images[5])\n",
        "plt.imshow(img_plot)\n",
        "plt.show()\n"
      ],
      "execution_count": 42,
      "outputs": [
        {
          "output_type": "display_data",
          "data": {
            "image/png": "[encoded data removed]",
            "text/plain": [
              "<Figure size 576x1080 with 1 Axes>"
            ]
          },
          "metadata": {
            "tags": [],
            "needs_background": "light"
          }
        }
      ]
    },
    {
      "cell_type": "code",
      "metadata": {
        "id": "MOuzEW4OlCpK"
      },
      "source": [
        "def predict_image(model, target_h, target_w, base_img):\n",
        "    base_img = base_img.squeeze(0).permute(1, 2, 0)\n",
        "    coords = []\n",
        "    scaled_coords = []\n",
        "\n",
        "    device = 'cuda:0' if torch.cuda.is_available() else 'cpu'\n",
        "\n",
        "    for i in range(target_h):\n",
        "        for j in range(target_w):\n",
        "            coords.append([i, j])\n",
        "            scaled_coords.append([i * base_img.shape[0] / target_h, j * base_img.shape[1] / target_w])\n",
        "\n",
        "    input_tensor = torch.from_numpy(np.array(scaled_coords)).unsqueeze(1).float().to(device)\n",
        "\n",
        "    pred, inp = predict(model, input_tensor)\n",
        "    reshape_size = list(pred.permute(1, 2, 0).shape[0:2]) + [target_h, target_w]\n",
        "    pred_img = pred.permute(1, 2, 0).view(*reshape_size)\n",
        "    # pred_img = create_image_from_output(pred, target_h, target_w)\n",
        "    \n",
        "    plt.figure(figsize = (8, 15))\n",
        "\n",
        "    img_plot = functions.convert_image_np(pred_img)\n",
        "    plt.imshow(img_plot)\n",
        "    plt.show()\n"
      ],
      "execution_count": 43,
      "outputs": []
    },
    {
      "cell_type": "code",
      "metadata": {
        "colab": {
          "base_uri": "https://localhost:8080/"
        },
        "id": "g4bJNhV_Aaxx",
        "outputId": "21d1ef1e-5699-448e-96e9-f6759b447c1a"
      },
      "source": [
        "target_h = 27\n",
        "target_w = 18\n",
        "base_img = images[0]\n",
        "\n",
        "base_img = base_img.squeeze(0).permute(1, 2, 0)\n",
        "coords = []\n",
        "scaled_coords = []\n",
        "\n",
        "device = 'cuda:0' if torch.cuda.is_available() else 'cpu'\n",
        "\n",
        "for i in range(target_h):\n",
        "    for j in range(target_w):\n",
        "        coords.append([i, j])\n",
        "        scaled_coords.append([i * base_img.shape[0] / target_h, j * base_img.shape[1] / target_w])\n",
        "\n",
        "input_tensor = torch.from_numpy(np.array(scaled_coords)).unsqueeze(1).float().to(device)\n",
        "\n",
        "pred, inp = predict(model, input_tensor)"
      ],
      "execution_count": 80,
      "outputs": [
        {
          "output_type": "stream",
          "text": [
            "4it [00:00, 548.85it/s]\n"
          ],
          "name": "stderr"
        }
      ]
    },
    {
      "cell_type": "code",
      "metadata": {
        "colab": {
          "base_uri": "https://localhost:8080/"
        },
        "id": "CQyK43ULAlEp",
        "outputId": "f5f520d4-ce44-4e28-a598-bb003eea95a0"
      },
      "source": [
        "pred.shape, inp.shape"
      ],
      "execution_count": 48,
      "outputs": [
        {
          "output_type": "execute_result",
          "data": {
            "text/plain": [
              "(torch.Size([486, 1, 3]), torch.Size([486, 1, 2]))"
            ]
          },
          "metadata": {
            "tags": []
          },
          "execution_count": 48
        }
      ]
    },
    {
      "cell_type": "code",
      "metadata": {
        "colab": {
          "base_uri": "https://localhost:8080/"
        },
        "id": "-jwp1pOlBJN0",
        "outputId": "a0119339-d7ff-442c-91a9-9486efa3de91"
      },
      "source": [
        "inp.squeeze(0)"
      ],
      "execution_count": 67,
      "outputs": [
        {
          "output_type": "execute_result",
          "data": {
            "text/plain": [
              "torch.Size([486, 1, 2])"
            ]
          },
          "metadata": {
            "tags": []
          },
          "execution_count": 67
        }
      ]
    },
    {
      "cell_type": "code",
      "metadata": {
        "id": "v63-0vRYDozT"
      },
      "source": [
        "from skimage import io as img\n",
        "import cv2\n",
        "\n",
        "img1 = img.imread('/content/SinGAN/Input/Images/leaf_LR.png')\n",
        "\n",
        "img2 = cv2.resize(img1, dsize=(120 * 4, 120 * 4))"
      ],
      "execution_count": 90,
      "outputs": []
    },
    {
      "cell_type": "code",
      "metadata": {
        "colab": {
          "base_uri": "https://localhost:8080/"
        },
        "id": "WbuDxzMHaE9F",
        "outputId": "653c6d32-3524-4bc5-985e-44246b736909"
      },
      "source": [
        "torch.from_numpy(img1).permute(2, 0, 1).shape"
      ],
      "execution_count": 92,
      "outputs": [
        {
          "output_type": "execute_result",
          "data": {
            "text/plain": [
              "torch.Size([3, 120, 120])"
            ]
          },
          "metadata": {
            "tags": []
          },
          "execution_count": 92
        }
      ]
    },
    {
      "cell_type": "code",
      "metadata": {
        "id": "OoZcinItZd5S"
      },
      "source": [
        "img1 = img.imread('/content/SinGAN/Input/Images/leaf_LR.png')\n",
        "img1 = cv2.resize(img1, dsize=(480, 480))\n",
        "img1 = cv2.resize(img1, dsize=(120 * 4, 120 * 4))\n",
        "img1 = img1 / 255\n",
        "img1 = (img1 - 0.5) * 2\n",
        "img1 = np.clip(img1, -1, 1)\n",
        "\n",
        "# for i in range(pred.shape[0]):\n",
        "#     hr_x, hr_y = tuple(inp[i, :])\n",
        "#     color = pred[i, :]\n",
        "\n",
        "#     img1[hr_x, hr_y] = color\n",
        "\n",
        "img1 = (img1 + 1) / 2\n",
        "img1 = np.clip(img1, 0, 1)\n",
        "\n",
        "# img1 = torch.from_numpy(img1).to(device).permute(2, 0, 1).unsqueeze(0)\n",
        "# img_plot = functions.convert_image_np(img1)\n",
        "plt.imsave('high.png', img1, vmin=0, vmax=1)\n",
        "plt.show()"
      ],
      "execution_count": 93,
      "outputs": []
    },
    {
      "cell_type": "code",
      "metadata": {
        "id": "jXNIU9fFaC1O"
      },
      "source": [
        ""
      ],
      "execution_count": null,
      "outputs": []
    },
    {
      "cell_type": "code",
      "metadata": {
        "colab": {
          "base_uri": "https://localhost:8080/",
          "height": 286
        },
        "id": "y4S9WQIIEIR7",
        "outputId": "d2cfd5b9-f3f7-4d5b-b449-ae4d88c381c6"
      },
      "source": [
        "plt.imshow(img2)"
      ],
      "execution_count": 73,
      "outputs": [
        {
          "output_type": "execute_result",
          "data": {
            "text/plain": [
              "<matplotlib.image.AxesImage at 0x7f996e322110>"
            ]
          },
          "metadata": {
            "tags": []
          },
          "execution_count": 73
        },
        {
          "output_type": "display_data",
          "data": {
            "image/png": "[encoded data removed]",
            "text/plain": [
              "<Figure size 432x288 with 1 Axes>"
            ]
          },
          "metadata": {
            "tags": [],
            "needs_background": "light"
          }
        }
      ]
    },
    {
      "cell_type": "code",
      "metadata": {
        "id": "wBtrhcTaY4xz"
      },
      "source": [
        "\n",
        "plt.imsave('high.png', img2, vmin = 0, vmax = 1)"
      ],
      "execution_count": 84,
      "outputs": []
    },
    {
      "cell_type": "code",
      "metadata": {
        "colab": {
          "base_uri": "https://localhost:8080/",
          "height": 34
        },
        "id": "NZTzc0tQEZFm",
        "outputId": "b206dcee-36cc-42d9-ea2e-24687bebc7ca"
      },
      "source": [
        "from SinGAN import functions\n",
        "\n",
        "img1 = img2\n",
        "img1 = torch.from_numpy(img1).to(device).permute(2, 0, 1).unsqueeze(0)\n",
        "plt.figure(figsize = (8, 15))\n",
        "img_plot = functions.convert_image_np(img1)\n",
        "plt.imsave('test.png', img_plot, vmin=0, vmax=1)\n",
        "plt.show()"
      ],
      "execution_count": 76,
      "outputs": [
        {
          "output_type": "display_data",
          "data": {
            "text/plain": [
              "<Figure size 576x1080 with 0 Axes>"
            ]
          },
          "metadata": {
            "tags": []
          }
        }
      ]
    },
    {
      "cell_type": "code",
      "metadata": {
        "colab": {
          "base_uri": "https://localhost:8080/",
          "height": 735
        },
        "id": "MLvIubkyzUwa",
        "outputId": "0e10f525-2af0-4a71-b461-d55d564eb862"
      },
      "source": [
        "predict_image(model, target_h = 27, target_w = 18, base_img = images[0])"
      ],
      "execution_count": 44,
      "outputs": [
        {
          "output_type": "stream",
          "text": [
            "4it [00:00, 612.60it/s]\n"
          ],
          "name": "stderr"
        },
        {
          "output_type": "display_data",
          "data": {
            "image/png": "[encoded data removed]",
            "text/plain": [
              "<Figure size 576x1080 with 1 Axes>"
            ]
          },
          "metadata": {
            "tags": [],
            "needs_background": "light"
          }
        }
      ]
    },
    {
      "cell_type": "code",
      "metadata": {
        "colab": {
          "base_uri": "https://localhost:8080/",
          "height": 738
        },
        "id": "srwrEEtsqtas",
        "outputId": "d0146662-2b2e-4b9e-9d2a-3cd2107e6750"
      },
      "source": [
        "predict_image(model, target_h = 480, target_w = 320, base_img = images[0])"
      ],
      "execution_count": 45,
      "outputs": [
        {
          "output_type": "stream",
          "text": [
            "1200it [00:01, 805.54it/s]\n"
          ],
          "name": "stderr"
        },
        {
          "output_type": "display_data",
          "data": {
            "image/png": "[encoded data removed]",
            "text/plain": [
              "<Figure size 576x1080 with 1 Axes>"
            ]
          },
          "metadata": {
            "tags": [],
            "needs_background": "light"
          }
        }
      ]
    },
    {
      "cell_type": "code",
      "metadata": {
        "colab": {
          "base_uri": "https://localhost:8080/"
        },
        "id": "ZJz9fUuhflMZ",
        "outputId": "6e46c908-bf6e-41f5-9d9e-2048ba135f7f"
      },
      "source": [
        ""
      ],
      "execution_count": null,
      "outputs": [
        {
          "output_type": "execute_result",
          "data": {
            "text/plain": [
              "1.0"
            ]
          },
          "metadata": {
            "tags": []
          },
          "execution_count": 35
        }
      ]
    },
    {
      "cell_type": "code",
      "metadata": {
        "id": "M3ZDmiiqf228"
      },
      "source": [
        ""
      ],
      "execution_count": null,
      "outputs": []
    }
  ]
}